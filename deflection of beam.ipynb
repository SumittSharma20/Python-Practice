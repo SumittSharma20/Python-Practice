{
 "cells": [
  {
   "cell_type": "code",
   "execution_count": 1,
   "id": "eca0dc50",
   "metadata": {},
   "outputs": [
    {
     "name": "stdout",
     "output_type": "stream",
     "text": [
      "Enter the value for W2\n",
      "Enter the value for L4\n",
      "deflection of beam= 2.0\n"
     ]
    }
   ],
   "source": [
    "w = float(input('Enter the value for W'))\n",
    "l = float(input('Enter the value for L'))\n",
    "D = (w*l)/4\n",
    "print('deflection of beam=',D) "
   ]
  },
  {
   "cell_type": "code",
   "execution_count": null,
   "id": "2bdab1b9",
   "metadata": {},
   "outputs": [],
   "source": []
  }
 ],
 "metadata": {
  "kernelspec": {
   "display_name": "Python 3 (ipykernel)",
   "language": "python",
   "name": "python3"
  },
  "language_info": {
   "codemirror_mode": {
    "name": "ipython",
    "version": 3
   },
   "file_extension": ".py",
   "mimetype": "text/x-python",
   "name": "python",
   "nbconvert_exporter": "python",
   "pygments_lexer": "ipython3",
   "version": "3.9.7"
  }
 },
 "nbformat": 4,
 "nbformat_minor": 5
}
